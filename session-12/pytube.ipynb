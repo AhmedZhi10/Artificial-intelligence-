{
 "cells": [
  {
   "cell_type": "code",
   "execution_count": 4,
   "id": "b8849c1f",
   "metadata": {},
   "outputs": [],
   "source": [
    "from pytube import YouTube"
   ]
  },
  {
   "cell_type": "code",
   "execution_count": 7,
   "id": "e9854ece",
   "metadata": {},
   "outputs": [
    {
     "data": {
      "text/plain": [
       "'/Users/zhi/Calculus (01) - Intro  التفاضل و التكامل - مقدمة.mp4'"
      ]
     },
     "execution_count": 7,
     "metadata": {},
     "output_type": "execute_result"
    }
   ],
   "source": [
    "download_link=(\"https://www.youtube.com/watch?v=pqZvxYKSMnc&list=PL8pYI62gCNsUIR42KUAH7QoUWyYgdCk1J&index=1\")\n",
    "video=YouTube(download_link)\n",
    "#download highest quality \n",
    "stream=video.streams.get_highest_resolution()\n",
    "#or download specific resolution \n",
    "#stream=video.streams.get_by_resolution(\"480p\")\n",
    "stream.download()"
   ]
  },
  {
   "cell_type": "code",
   "execution_count": null,
   "id": "613fd7e3",
   "metadata": {},
   "outputs": [],
   "source": [
    "# download playlist\n",
    "# الباقة يدوبك والله \n",
    "from pytube import Playlist\n",
    "\n",
    "playlist = Playlist('https://www.youtube.com/playlist?list=PL8pYI62gCNsUJvxHc6uzWINUfvdoWSWia')\n",
    "\n",
    "print('Number of videos in playlist: %s' % len(playlist.video_urls))\n",
    "playlist.download_all()"
   ]
  }
 ],
 "metadata": {
  "kernelspec": {
   "display_name": "Python 3",
   "language": "python",
   "name": "python3"
  },
  "language_info": {
   "codemirror_mode": {
    "name": "ipython",
    "version": 3
   },
   "file_extension": ".py",
   "mimetype": "text/x-python",
   "name": "python",
   "nbconvert_exporter": "python",
   "pygments_lexer": "ipython3",
   "version": "3.8.8"
  }
 },
 "nbformat": 4,
 "nbformat_minor": 5
}
