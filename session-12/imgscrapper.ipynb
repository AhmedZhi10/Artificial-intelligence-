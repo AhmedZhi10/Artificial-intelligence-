{
 "cells": [
  {
   "cell_type": "code",
   "execution_count": 30,
   "id": "43bfa5c0",
   "metadata": {},
   "outputs": [
    {
     "name": "stdout",
     "output_type": "stream",
     "text": [
      "https://media.hatla2eestatic.com/uploads/car/2022/09/10/5059476/medium_up_2d1048223c0df3ca2d0fcd4273c8097c.jpg\n",
      "https://media.hatla2eestatic.com/uploads/car/2022/08/30/5023634/medium_up_79caf3691775fc8061445b3de2100c9e.jpg\n",
      "https://media.hatla2eestatic.com/uploads/car/2022/08/22/5000981/medium_up_133cf3468b588dbd2f32b57d3f4a8901.jpg\n",
      "https://media.hatla2eestatic.com/uploads/news/57390/small_img_6d5fa44bbbe72ebc42d8a5da874bf54a.jpg\n",
      "https://media.hatla2eestatic.com/uploads/news/48194/small_img_612909cd49f959ff1caf82577353d5d9.jpg\n",
      "https://media.hatla2eestatic.com/uploads/news/42274/small_img_84035f6c9d26efdbe8c66c21ce730a38.jpg\n",
      "https://media.hatla2eestatic.com/uploads/ncarmodel/7605/thumbnail-up_d582ccabcba7442bb8df98ec17792dac.png\n",
      "https://media.hatla2eestatic.com/uploads/ncarmodel/7609/thumbnail-up_bef711ae05da68448be822c4f1d3b2d2.jpg\n",
      "https://media.hatla2eestatic.com/uploads/ncarmodel/6789/thumbnail-up_553564455897716681e4e1da7f464409.jpg\n",
      "https://media.hatla2eestatic.com/uploads/ncarmodel/7594/thumbnail-up_9f8eeb7251e0b6d8d8d4c34b49ff7857.png\n",
      "https://media.hatla2eestatic.com/uploads/ncarmodel/7608/thumbnail-up_feddbea456c60536ceb9fc37a455b99c.jpg\n",
      "https://media.hatla2eestatic.com/uploads/ncarmodel/6165/thumbnail-up_8c389ba7a64fedf7d5c01d0f02585961.png\n",
      "https://media.hatla2eestatic.com/uploads/ncarmodel/7869/thumbnail-up_3c1814cc6406dd7dad23e3e70eb14049.png\n",
      "https://media.hatla2eestatic.com/uploads/ncarmodel/5700/thumbnail-up_a93ad6ba1d47ab98632d4b4e1e3095b5.png\n"
     ]
    }
   ],
   "source": [
    "from bs4 import BeautifulSoup\n",
    "import requests\n",
    "\n",
    "url=\"https://eg.hatla2ee.com/ar/new-car/land-rover/discovery\"\n",
    "source_code=requests.get(url)\n",
    "plain_text=(source_code.text)\n",
    "soup=BeautifulSoup(plain_text,\"html.parser\")\n",
    "soup.find_all(class_='lazy')\n",
    "for link in soup.find_all(class_='lazy'):\n",
    "    src=link.get('data-original')\n",
    "    print(src)\n"
   ]
  },
  {
   "cell_type": "code",
   "execution_count": null,
   "id": "e4778fea",
   "metadata": {},
   "outputs": [],
   "source": []
  },
  {
   "cell_type": "code",
   "execution_count": null,
   "id": "3cd12a7e",
   "metadata": {},
   "outputs": [],
   "source": []
  }
 ],
 "metadata": {
  "kernelspec": {
   "display_name": "Python 3",
   "language": "python",
   "name": "python3"
  },
  "language_info": {
   "codemirror_mode": {
    "name": "ipython",
    "version": 3
   },
   "file_extension": ".py",
   "mimetype": "text/x-python",
   "name": "python",
   "nbconvert_exporter": "python",
   "pygments_lexer": "ipython3",
   "version": "3.8.8"
  }
 },
 "nbformat": 4,
 "nbformat_minor": 5
}
