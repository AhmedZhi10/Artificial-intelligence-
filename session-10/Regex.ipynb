{
 "cells": [
  {
   "cell_type": "code",
   "execution_count": 62,
   "id": "24209073",
   "metadata": {},
   "outputs": [
    {
     "data": {
      "text/plain": [
       "'\\nAbdelrahman mohamed (abdonoha_gmail.com)+201068153104\\nKhaled elsawy(khaled_mego@outlook.com)+201284762135\\t\\nAhmed elsayed(ahmed_sayed100@outlook.com)+201023153109\\nMagdy afsha(elkadya_momken85@gmail.com)+20103478972\\t\\n'"
      ]
     },
     "execution_count": 62,
     "metadata": {},
     "output_type": "execute_result"
    }
   ],
   "source": [
    "import re\n",
    "Text=open(\"info.txt\",\"r\")\n",
    "text_file=Text.read()\n",
    "text_file"
   ]
  },
  {
   "cell_type": "code",
   "execution_count": 66,
   "id": "5c3b1c1d",
   "metadata": {
    "scrolled": false
   },
   "outputs": [
    {
     "name": "stdout",
     "output_type": "stream",
     "text": [
      "['(abdonoha_gmail.com)', '(khaled_mego@outlook.com)', '(ahmed_sayed100@outlook.com)', '(elkadya_momken85@gmail.com)']\n"
     ]
    }
   ],
   "source": [
    "import re\n",
    "Text=open(\"info.txt\",\"r\")\n",
    "text_file=Text.read()\n",
    "pattern1= re.compile(r'\\(.*\\)')\n",
    "matches=pattern1.finditer(text_file)\n",
    "emails=[]\n",
    "for match in matches:\n",
    "    emails.append(match.group())\n",
    "print(emails)"
   ]
  },
  {
   "cell_type": "code",
   "execution_count": 84,
   "id": "7a2c6ebd",
   "metadata": {},
   "outputs": [
    {
     "name": "stdout",
     "output_type": "stream",
     "text": [
      "['201068153104', '201284762135', '201023153109']\n"
     ]
    }
   ],
   "source": [
    "pattern2=re.compile(r\"\\d{12}\")\n",
    "matches2=pattern2.finditer(text_file)\n",
    "numbers=[]\n",
    "for match in matches2:\n",
    "    numbers.append(match.group())\n",
    "print(numbers)"
   ]
  }
 ],
 "metadata": {
  "kernelspec": {
   "display_name": "Python 3",
   "language": "python",
   "name": "python3"
  },
  "language_info": {
   "codemirror_mode": {
    "name": "ipython",
    "version": 3
   },
   "file_extension": ".py",
   "mimetype": "text/x-python",
   "name": "python",
   "nbconvert_exporter": "python",
   "pygments_lexer": "ipython3",
   "version": "3.8.8"
  }
 },
 "nbformat": 4,
 "nbformat_minor": 5
}
