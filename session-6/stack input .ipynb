{
 "cells": [
  {
   "cell_type": "code",
   "execution_count": 2,
   "id": "0e9981d4",
   "metadata": {},
   "outputs": [
    {
     "name": "stdout",
     "output_type": "stream",
     "text": [
      "Enter any number except zero : 3\n",
      "Enter any number except zero : 5\n",
      "Enter any number except zero : 6\n",
      "Enter any number except zero : 9\n",
      "Enter any number except zero : 0\n",
      "[ 9 6 5 3 }\n"
     ]
    }
   ],
   "source": [
    "from queue import LifoQueue as St\n",
    "\n",
    "def input_stack(prompts=\"Enter any number except zero : \"):\n",
    "    st = St()\n",
    "    while True:\n",
    "        Response = input(prompts)\n",
    "        if Response and Response != '0':\n",
    "            st.put(Response)\n",
    "        else:\n",
    "            break\n",
    "    return st\n",
    "\n",
    "def show(st):\n",
    "    print(\"[\",end=\" \")\n",
    "    while st.qsize():\n",
    "        if st.qsize() == 1:\n",
    "            print(st.get(), \"}\")\n",
    "        else:\n",
    "            print(st.get(),end=\" \")\n",
    "            \n",
    "        \n",
    "        \n",
    "answer=input_stack()\n",
    "show(answer)\n"
   ]
  },
  {
   "cell_type": "code",
   "execution_count": null,
   "id": "bedf115a",
   "metadata": {},
   "outputs": [],
   "source": []
  }
 ],
 "metadata": {
  "kernelspec": {
   "display_name": "Python 3",
   "language": "python",
   "name": "python3"
  },
  "language_info": {
   "codemirror_mode": {
    "name": "ipython",
    "version": 3
   },
   "file_extension": ".py",
   "mimetype": "text/x-python",
   "name": "python",
   "nbconvert_exporter": "python",
   "pygments_lexer": "ipython3",
   "version": "3.8.8"
  }
 },
 "nbformat": 4,
 "nbformat_minor": 5
}
