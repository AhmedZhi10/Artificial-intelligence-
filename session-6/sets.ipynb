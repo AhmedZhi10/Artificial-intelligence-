{
 "cells": [
  {
   "cell_type": "markdown",
   "id": "e18ee880",
   "metadata": {},
   "source": [
    "# **sets :**\n",
    "## _A Set is an unordered collection data type that is iterable, mutable and has no duplicate elements._\n",
    "\n",
    "\n",
    "---\n",
    "---\n",
    "## _orderdset is unsorted set :_\n",
    "* <mark>ordered_set is available on  PyPI  </mark>\n",
    "*  using pip :"
   ]
  },
  {
   "cell_type": "code",
   "execution_count": null,
   "id": "8df79613",
   "metadata": {},
   "outputs": [],
   "source": [
    "pip install ordered-set"
   ]
  },
  {
   "cell_type": "code",
   "execution_count": 13,
   "id": "4a0124f2",
   "metadata": {},
   "outputs": [],
   "source": [
    "from ordered_set import OrderedSet"
   ]
  },
  {
   "cell_type": "code",
   "execution_count": 14,
   "id": "09429706",
   "metadata": {},
   "outputs": [],
   "source": [
    "word=OrderedSet(\"messi\")"
   ]
  },
  {
   "cell_type": "code",
   "execution_count": null,
   "id": "fe36c6c8",
   "metadata": {},
   "outputs": [],
   "source": [
    "word"
   ]
  },
  {
   "cell_type": "markdown",
   "id": "5fa0d51d",
   "metadata": {},
   "source": [
    "# multi set :\n",
    "*  install multiset using pip:"
   ]
  },
  {
   "cell_type": "code",
   "execution_count": null,
   "id": "b30f18c2",
   "metadata": {},
   "outputs": [],
   "source": [
    " pip install multiset"
   ]
  },
  {
   "cell_type": "code",
   "execution_count": 13,
   "id": "43fafc14",
   "metadata": {},
   "outputs": [],
   "source": [
    "from multiset import *"
   ]
  },
  {
   "cell_type": "code",
   "execution_count": null,
   "id": "c842bd9d",
   "metadata": {},
   "outputs": [],
   "source": [
    "set_1=multiset(\"ahmed\")\n",
    "set_2=multiset(\"meki\")\n",
    "print(Sorted(set_1|set_2))"
   ]
  }
 ],
 "metadata": {
  "kernelspec": {
   "display_name": "Python 3",
   "language": "python",
   "name": "python3"
  },
  "language_info": {
   "codemirror_mode": {
    "name": "ipython",
    "version": 3
   },
   "file_extension": ".py",
   "mimetype": "text/x-python",
   "name": "python",
   "nbconvert_exporter": "python",
   "pygments_lexer": "ipython3",
   "version": "3.8.8"
  }
 },
 "nbformat": 4,
 "nbformat_minor": 5
}
