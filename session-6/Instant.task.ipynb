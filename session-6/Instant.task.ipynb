{
 "cells": [
  {
   "cell_type": "code",
   "execution_count": 1,
   "id": "9f3c6cc8",
   "metadata": {},
   "outputs": [
    {
     "name": "stdout",
     "output_type": "stream",
     "text": [
      "{'box': 2, 'captain black': 4, 'lm blue': 3, 'merit': 1}\n"
     ]
    }
   ],
   "source": [
    "\n",
    "# sort dictianry by key using for loop and sorted().. \n",
    "\n",
    "my_dic={\"box\":2,\"lm blue\":3,\"merit\":1,\"captain black\":4}\n",
    "\n",
    "sort_key=sorted(my_dic.keys())\n",
    "\n",
    "sorted_dictianry={key:my_dic[key] for key in sort_key}\n",
    "\n",
    "print(sorted_dictianry)\n"
   ]
  },
  {
   "cell_type": "code",
   "execution_count": null,
   "id": "8159e448",
   "metadata": {},
   "outputs": [],
   "source": [
    "                                           "
   ]
  }
 ],
 "metadata": {
  "kernelspec": {
   "display_name": "Python 3",
   "language": "python",
   "name": "python3"
  },
  "language_info": {
   "codemirror_mode": {
    "name": "ipython",
    "version": 3
   },
   "file_extension": ".py",
   "mimetype": "text/x-python",
   "name": "python",
   "nbconvert_exporter": "python",
   "pygments_lexer": "ipython3",
   "version": "3.8.8"
  }
 },
 "nbformat": 4,
 "nbformat_minor": 5
}
