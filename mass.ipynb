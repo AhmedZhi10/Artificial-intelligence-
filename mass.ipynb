{
 "cells": [
  {
   "cell_type": "code",
   "execution_count": 2,
   "id": "ecd4f670",
   "metadata": {},
   "outputs": [],
   "source": [
    "import bmi as bm "
   ]
  },
  {
   "cell_type": "code",
   "execution_count": 5,
   "id": "d8ec38ad",
   "metadata": {},
   "outputs": [
    {
     "data": {
      "text/plain": [
       "24.22"
      ]
     },
     "execution_count": 5,
     "metadata": {},
     "output_type": "execute_result"
    }
   ],
   "source": [
    "bodymassindex(1.7,70)"
   ]
  },
  {
   "cell_type": "code",
   "execution_count": null,
   "id": "8d42719a",
   "metadata": {},
   "outputs": [],
   "source": []
  }
 ],
 "metadata": {
  "kernelspec": {
   "display_name": "Python 3",
   "language": "python",
   "name": "python3"
  },
  "language_info": {
   "codemirror_mode": {
    "name": "ipython",
    "version": 3
   },
   "file_extension": ".py",
   "mimetype": "text/x-python",
   "name": "python",
   "nbconvert_exporter": "python",
   "pygments_lexer": "ipython3",
   "version": "3.8.8"
  }
 },
 "nbformat": 4,
 "nbformat_minor": 5
}
