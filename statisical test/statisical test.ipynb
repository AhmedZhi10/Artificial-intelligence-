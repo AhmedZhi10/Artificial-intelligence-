{
 "cells": [
  {
   "cell_type": "markdown",
   "id": "deb94975",
   "metadata": {},
   "source": [
    "## What are statistical tests ?\n",
    "<br>\n",
    "* A statistical test provides a mechanism for making quantitative decisions about a process or processes. The intent is to determine whether there is enough evidence to \"reject\" a conjecture or hypothesis about the process. The conjecture is called the null hypothesis. Not rejecting may be a good result if we want to continue to act as if we \"believe\" the null hypothesis is true. Or it may be a disappointing result, possibly indicating we may not yet have enough data to \"prove\" something by rejecting the null hypothesis.\n",
    "\n",
    "\n",
    "## types of statistical tests:\n",
    "* __Correlational: these tests look for an association between variables__\n",
    "* __Pearson Correlation:Tests for the strength of the association between two continuous variables__\n",
    "* __Spearman Correlation:Tests for the strength of the association between two ordinal variables (does not rely on the assumption of normally distributed data)__\n",
    "* __Chi-Square:Tests for the strength of the association between two categorical variables__\n",
    "* __Paired T-Test:Tests for the difference between two variables from the same population (e.g., a pre- and posttest score)__\n",
    "* __ANOVA:Tests for the difference between group means after any other variance in the outcome variable is accounted for (e.g., controlling for income, or age)__\n",
    "\n"
   ]
  }
 ],
 "metadata": {
  "kernelspec": {
   "display_name": "Python 3",
   "language": "python",
   "name": "python3"
  },
  "language_info": {
   "codemirror_mode": {
    "name": "ipython",
    "version": 3
   },
   "file_extension": ".py",
   "mimetype": "text/x-python",
   "name": "python",
   "nbconvert_exporter": "python",
   "pygments_lexer": "ipython3",
   "version": "3.8.8"
  }
 },
 "nbformat": 4,
 "nbformat_minor": 5
}
