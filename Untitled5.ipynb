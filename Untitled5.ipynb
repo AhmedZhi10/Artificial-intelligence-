{
 "cells": [
  {
   "cell_type": "code",
   "execution_count": 6,
   "id": "a65d7472",
   "metadata": {},
   "outputs": [
    {
     "name": "stdout",
     "output_type": "stream",
     "text": [
      "5\n"
     ]
    }
   ],
   "source": [
    "#using recurnce function\n",
    "def recursion_fact(n):\n",
    "    if (n == 0):\n",
    "        return 1;\n",
    " \n",
    "    # recursion call\n",
    "    return n * recursion_fact(n - 1);\n",
    " \n",
    "  \n",
    "  \n",
    "    \n",
    "print(recursion_fact(5))"
   ]
  },
  {
   "cell_type": "code",
   "execution_count": 8,
   "id": "9031c3ca",
   "metadata": {},
   "outputs": [
    {
     "name": "stdout",
     "output_type": "stream",
     "text": [
      "120\n"
     ]
    }
   ],
   "source": [
    "#using iteratian\n",
    "\n",
    "def factorial(f):\n",
    "    num = 1\n",
    "    while f >= 1:\n",
    "        num = num * f\n",
    "        f = f - 1\n",
    "    return num\n",
    "\n",
    "print(factorial(5))\n"
   ]
  },
  {
   "cell_type": "code",
   "execution_count": 9,
   "id": "b23e9703",
   "metadata": {},
   "outputs": [
    {
     "name": "stdout",
     "output_type": "stream",
     "text": [
      "5\n"
     ]
    }
   ],
   "source": [
    "#biinary search implementation...\n",
    "def binarySearch(arr,reach):\n",
    "    l = len(arr) - 1\n",
    "    left,end = 0,l \n",
    "    mid = (left+end)//2 \n",
    "    while left <= end:\n",
    "        if arr[mid] == reach: \n",
    "            return mid \n",
    "        elif arr[mid] < reach:\n",
    "            left = mid + 1\n",
    "        else:\n",
    "            end = mid - 1\n",
    "        mid = (left+end)//2\n",
    "    return -1\n",
    "    \n",
    "a = [1,4,6,3,7,8]\n",
    "print(binarySearch(a,8)) "
   ]
  },
  {
   "cell_type": "code",
   "execution_count": null,
   "id": "21be7de7",
   "metadata": {},
   "outputs": [],
   "source": []
  }
 ],
 "metadata": {
  "kernelspec": {
   "display_name": "Python 3",
   "language": "python",
   "name": "python3"
  },
  "language_info": {
   "codemirror_mode": {
    "name": "ipython",
    "version": 3
   },
   "file_extension": ".py",
   "mimetype": "text/x-python",
   "name": "python",
   "nbconvert_exporter": "python",
   "pygments_lexer": "ipython3",
   "version": "3.8.8"
  }
 },
 "nbformat": 4,
 "nbformat_minor": 5
}
