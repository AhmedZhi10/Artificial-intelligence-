{
 "cells": [
  {
   "cell_type": "markdown",
   "id": "a83c3be0",
   "metadata": {},
   "source": [
    "# Destructor :\n",
    "\n",
    "* a destructor is a method which is called automatically just before the memory of the object is relassed \n",
    "\n"
   ]
  },
  {
   "cell_type": "code",
   "execution_count": null,
   "id": "d55b4b12",
   "metadata": {},
   "outputs": [],
   "source": [
    "class Car:\n",
    "    def __init__ (self, color, kind):\n",
    "        self.kind = kind\n",
    "        self.color = color\n",
    "        print(\"new car have been Released : \"+ self.kind)\n",
    "   \n",
    "    def __del__(self):\n",
    "        print(\"the car (object) have been deleted: \" +self.kind)        \n",
    "\n",
    "mycar=Car('blue','bmw')\n",
    "\n",
    "del mycar"
   ]
  }
 ],
 "metadata": {
  "kernelspec": {
   "display_name": "Python 3",
   "language": "python",
   "name": "python3"
  },
  "language_info": {
   "codemirror_mode": {
    "name": "ipython",
    "version": 3
   },
   "file_extension": ".py",
   "mimetype": "text/x-python",
   "name": "python",
   "nbconvert_exporter": "python",
   "pygments_lexer": "ipython3",
   "version": "3.8.8"
  }
 },
 "nbformat": 4,
 "nbformat_minor": 5
}
