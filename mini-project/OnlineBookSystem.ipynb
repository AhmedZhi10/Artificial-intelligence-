{
 "cells": [
  {
   "cell_type": "code",
   "execution_count": null,
   "id": "ff78e0eb",
   "metadata": {},
   "outputs": [
    {
     "name": "stdout",
     "output_type": "stream",
     "text": [
      "Welcome to Harry Library \n",
      " \n",
      "\n"
     ]
    }
   ],
   "source": [
    " \n",
    "class Library:\n",
    "\n",
    "    def __init__(self,library_name,list_of_books):\n",
    "        self.library_name=library_name\n",
    "        self.list_of_books=list_of_books\n",
    "    \n",
    "    def display_book(self):\n",
    "        return self.list_of_books\n",
    "\n",
    "    def lend_book(self,book_name):\n",
    "        if book_name in self.list_of_books:\n",
    "            print(f\"You can lend {book_name} book.Enjoy it.\")\n",
    "            self.list_of_books.remove(book_name)\n",
    "        else:\n",
    "            print(\"Sorry, but your request is not available, we will try to provide it as soon as possible.\")\n",
    "\n",
    "    def add_book(self,book_name):\n",
    "        print(\"Thank you for your contribution to the development of the library..\")\n",
    "        return self.list_of_books.append(book_name)\n",
    "        \n",
    "    def return_book(self,book_name):\n",
    "        print(f\"Thanks for returning {book_name} book..\")\n",
    "        return self.list_of_books.append(book_name)\n",
    "\n",
    "    def delete_book(self,book_name):\n",
    "        return self.list_of_books.remove(book_name)\n",
    "\n",
    "Harry= Library(\"Harry Library\",[\"game of thrones\",\"machine learning\",\"functional programming\",\"stories\",\"history\",\"Islam\"])\n",
    "\n",
    "print(f\"Welcome to {Harry.library_name} \\n \\n\")\n",
    "while True:\n",
    "    user_input=int(input(\"Enter 0 to Exit form program. \\nEnter 1 to show our books. \\nEnter 2 for add book. \\nEnter 3 for lend book. \\nEnter 4 for return book. \\nEnter 5 for delete book.\\nEnter: \"))\n",
    "    if user_input==0:\n",
    "        print(\"Good bye.\")\n",
    "        break\n",
    "    if user_input==1:\n",
    "        print(Harry.display_book())\n",
    "    elif user_input==2:\n",
    "        book=input(\"Enter the book name: \")\n",
    "        Harry.add_book(book)\n",
    "    elif user_input==3:\n",
    "        book=input(\"Enter the book name: \")\n",
    "        Harry.lend_book(book)\n",
    "    elif user_input==4:\n",
    "        book=input(\"Enter the book name: \")\n",
    "        Harry.return_book(book)\n",
    "    elif user_input==5:\n",
    "        password=12345\n",
    "        passcode=int(input(\"Enter the 5 digit password: \"))\n",
    "        if password==passcode:\n",
    "            book=input(\"Enter the book name: \")\n",
    "            Harry.delete_book(book)\n",
    "            print(\"Successfully deleted\")\n",
    "        else:\n",
    "            print(\"Access Denied...\")\n",
    "    else:\n",
    "        print(\"Inavlied Input\")\n",
    "\n",
    "\n"
   ]
  },
  {
   "cell_type": "code",
   "execution_count": null,
   "id": "3e847f14",
   "metadata": {},
   "outputs": [],
   "source": []
  },
  {
   "cell_type": "code",
   "execution_count": null,
   "id": "2e25b660",
   "metadata": {},
   "outputs": [],
   "source": []
  },
  {
   "cell_type": "code",
   "execution_count": null,
   "id": "16c84c02",
   "metadata": {},
   "outputs": [],
   "source": []
  }
 ],
 "metadata": {
  "kernelspec": {
   "display_name": "Python 3",
   "language": "python",
   "name": "python3"
  },
  "language_info": {
   "codemirror_mode": {
    "name": "ipython",
    "version": 3
   },
   "file_extension": ".py",
   "mimetype": "text/x-python",
   "name": "python",
   "nbconvert_exporter": "python",
   "pygments_lexer": "ipython3",
   "version": "3.8.8"
  }
 },
 "nbformat": 4,
 "nbformat_minor": 5
}
