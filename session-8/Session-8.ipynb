{
 "cells": [
  {
   "attachments": {},
   "cell_type": "markdown",
   "id": "04ce2a5c",
   "metadata": {},
   "source": [
    "# Acces modifiers in python :\n",
    "\n"
   ]
  },
  {
   "cell_type": "markdown",
   "id": "697143ac",
   "metadata": {},
   "source": [
    "<img src= \"accis.gif\">"
   ]
  },
  {
   "cell_type": "markdown",
   "id": "58be5b45",
   "metadata": {},
   "source": [
    "* Public Access Modifier <br>\n",
    "All data members and member functions of a class are __public by default.__\n",
    "* Protected Access Modifier:<br>\n",
    "Members of a class delclared protected by adding __single underscore( _ )__\n",
    "* Private Access Modifier:<br>\n",
    "Members of a class delclared private by adding __double underscore( __ )__"
   ]
  },
  {
   "cell_type": "markdown",
   "id": "a7fdbb06",
   "metadata": {},
   "source": [
    "## Access private data in superclass from subclass : \n",
    "### Example: "
   ]
  },
  {
   "cell_type": "code",
   "execution_count": 4,
   "id": "b9b1040c",
   "metadata": {},
   "outputs": [
    {
     "name": "stdout",
     "output_type": "stream",
     "text": [
      "this is private func in super class \n"
     ]
    }
   ],
   "source": [
    "class SuperClass:\n",
    "    def __name(self):\n",
    "        print(\"this is private func in super class \")\n",
    "\n",
    "class SubClass(SuperClass):\n",
    "    def hi(self):\n",
    "         self._SuperClass__name()\n",
    "            \n",
    "sub_class= SubClass()\n",
    "sub_class.hi()"
   ]
  },
  {
   "cell_type": "code",
   "execution_count": null,
   "id": "987fbe83",
   "metadata": {},
   "outputs": [],
   "source": []
  }
 ],
 "metadata": {
  "kernelspec": {
   "display_name": "Python 3",
   "language": "python",
   "name": "python3"
  },
  "language_info": {
   "codemirror_mode": {
    "name": "ipython",
    "version": 3
   },
   "file_extension": ".py",
   "mimetype": "text/x-python",
   "name": "python",
   "nbconvert_exporter": "python",
   "pygments_lexer": "ipython3",
   "version": "3.8.8"
  }
 },
 "nbformat": 4,
 "nbformat_minor": 5
}
