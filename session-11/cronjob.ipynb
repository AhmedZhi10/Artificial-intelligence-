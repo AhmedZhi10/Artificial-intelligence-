{
 "cells": [
  {
   "cell_type": "markdown",
   "id": "4ede39b7",
   "metadata": {},
   "source": [
    "# Cron job :\n"
   ]
  },
  {
   "cell_type": "markdown",
   "id": "69def6f8",
   "metadata": {},
   "source": [
    "## what is cron job ? \n",
    "\n",
    "* A cron job is a <code> __Linux command__ </code>used for __scheduling__ tasks to be executed sometime in the future. This is normally used to schedule a job that is executed periodically – for example, to send out a notice every morning. "
   ]
  },
  {
   "cell_type": "markdown",
   "id": "daf2b857",
   "metadata": {},
   "source": [
    "* it's not for linux only, its known as <code>__Scheduled Tasks in windows.__ </code>\n",
    "![<job>](nigga.png)<br>\n",
    "    \n",
    "    it running or excuite in <code> __Shell Script__</code>\n",
    "\n"
   ]
  },
  {
   "cell_type": "code",
   "execution_count": 4,
   "id": "0aa242d0",
   "metadata": {},
   "outputs": [
    {
     "name": "stdout",
     "output_type": "stream",
     "text": [
      "zsh:1: no such file or directory: job\r\n"
     ]
    }
   ],
   "source": [
    "\n"
   ]
  },
  {
   "cell_type": "code",
   "execution_count": null,
   "id": "b7bcad93",
   "metadata": {},
   "outputs": [],
   "source": []
  }
 ],
 "metadata": {
  "kernelspec": {
   "display_name": "Python 3",
   "language": "python",
   "name": "python3"
  },
  "language_info": {
   "codemirror_mode": {
    "name": "ipython",
    "version": 3
   },
   "file_extension": ".py",
   "mimetype": "text/x-python",
   "name": "python",
   "nbconvert_exporter": "python",
   "pygments_lexer": "ipython3",
   "version": "3.8.8"
  }
 },
 "nbformat": 4,
 "nbformat_minor": 5
}
