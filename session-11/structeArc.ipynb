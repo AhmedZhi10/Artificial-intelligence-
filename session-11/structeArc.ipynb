{
 "cells": [
  {
   "cell_type": "markdown",
   "id": "a62845e3",
   "metadata": {},
   "source": [
    "# Architecture patterns\n",
    "\n",
    "* __The architectural pattern captures the design structures of various systems and elements of software so that they can be reused. During the process of writing software code, developers encounter similar problems multiple times within a project, within the company, and within their careers. One way to address this is to create design patterns that give engineers a reusable way to solve these problems, allowing software engineers to achieve the same output structurally for a given project.__ <br>\n",
    "![<Figure1>](arx.png)\n"
   ]
  },
  {
   "cell_type": "markdown",
   "id": "161c53e2",
   "metadata": {},
   "source": [
    "## common paterns:\n",
    "-  __Layered pattern__\n",
    "-  __Client-server__\n",
    "-  __Master-slave__\n",
    "-  __Broker__"
   ]
  },
  {
   "cell_type": "markdown",
   "id": "d913b181",
   "metadata": {},
   "source": [
    "1.  __layered pattern__<br>\n",
    "    <code>Layered architecture patterns are n-tiered patterns where the components are organized in horizontal layers.</code><br>\n",
    "    ![<Figure2>](rcs.png)\n",
    "* __Usage__\n",
    "    \n",
    "  1- __Control system for self- driving vehicles__<br>\n",
    "  2- __Desktop applications__\n",
    "  3- __E-commerce web applications__ "
   ]
  },
  {
   "cell_type": "markdown",
   "id": "0b21df58",
   "metadata": {},
   "source": [
    "2. __Client-server__<br>\n",
    "<code>client-server architecture, </code>  __architecture of a computer network in which many clients<code>remote processors</code>request and receive service from a centralized server <code>(host computer).__</code> \n",
    "![<Figure2>](client.jpg)\n",
    "* __usage__ <br>\n",
    " \n",
    "   Emails service \n",
    "\n",
    "\n"
   ]
  },
  {
   "cell_type": "markdown",
   "id": "a985806a",
   "metadata": {},
   "source": [
    "3. __Master-slave__<br>\n",
    "__<code>Masterslave</code> is a model of communication for hardware devices where one device has a unidirectional control over one or more devices.__<br>\n",
    "![<Figure2>](slave.png)\n",
    "\n",
    "* __Usage__<br>\n",
    "    \n",
    "    __print job spooler controlling a set of printers__"
   ]
  },
  {
   "cell_type": "markdown",
   "id": "929c1896",
   "metadata": {},
   "source": [
    "4. __Broker__<br><br>\n",
    "<code> __Broker Architectural__</code> Style is a middleware architecture used in distributed computing to coordinate and enable the communication between registered servers and clients. \n",
    "![<Figure2>](brock.png)"
   ]
  },
  {
   "cell_type": "markdown",
   "id": "d773e1ca",
   "metadata": {},
   "source": [
    "* __Usage__<br>\n",
    "\n",
    "__Build a City Information System (CIS) designed to run on a wide area network.__\n",
    "\n",
    "__Wide area network in this case can be viewed as a set of networks that are not directly connected at all time__\n",
    "\n",
    "__There are different kinds of computers in the network.__\n",
    "\n",
    "__Users can access the information from the WWW which is the front end software supported for on-line retrieval of information.__\n",
    "\n",
    "__The backend are data distributed out across the network__"
   ]
  }
 ],
 "metadata": {
  "kernelspec": {
   "display_name": "Python 3",
   "language": "python",
   "name": "python3"
  },
  "language_info": {
   "codemirror_mode": {
    "name": "ipython",
    "version": 3
   },
   "file_extension": ".py",
   "mimetype": "text/x-python",
   "name": "python",
   "nbconvert_exporter": "python",
   "pygments_lexer": "ipython3",
   "version": "3.8.8"
  }
 },
 "nbformat": 4,
 "nbformat_minor": 5
}
