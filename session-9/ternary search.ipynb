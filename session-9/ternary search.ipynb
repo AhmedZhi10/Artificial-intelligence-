{
 "cells": [
  {
   "cell_type": "markdown",
   "id": "1e33113c",
   "metadata": {},
   "source": [
    "# what is ternary search ?"
   ]
  },
  {
   "cell_type": "markdown",
   "id": "b0935a07",
   "metadata": {},
   "source": [
    "* ternary search is a __divide-and-conquer search algorithm.__ It is mandatory for the array (in which you will search for an element) to be sorted before we begin the search. In this search, after each iteration it neglects ⅓ part of the array and repeats the same operations on the remaining ⅔.<h>\n",
    " \n",
    "   "
   ]
  },
  {
   "cell_type": "markdown",
   "id": "3842d63d",
   "metadata": {},
   "source": [
    "* <ul>\n",
    "<li><strong>Step 1</strong>: Divide the search space (initially, the list) in three parts (with two mid-points: <code>mid1</code> and <code>mid2</code>)</li>\n",
    "<li><strong>Step 2</strong>: The target element is compared with the edge elements that is elements at location <code>mid1</code>, <code>mid2</code> and the end of the search space. If element matches, go to step 3 else predict in which section the target element lies. The search space is reduced to <code>1/3</code>rd. If the element is not in the list, go to step 4 or to step 1.</li>\n",
    "<li><strong>Step 3</strong>: Element found. Return index and exit.</li>\n",
    "<li><strong>Step 4</strong>: Element not found. Exit.</li>\n",
    "</ul>"
   ]
  },
  {
   "cell_type": "code",
   "execution_count": 1,
   "id": "fb708fbd",
   "metadata": {},
   "outputs": [
    {
     "name": "stdout",
     "output_type": "stream",
     "text": [
      "Element found at index 2\n"
     ]
    }
   ],
   "source": [
    "def ternarySearch(A, x):\n",
    " \n",
    "    (left, right) = (0, len(A) - 1)\n",
    " \n",
    "    while left <= right:\n",
    " \n",
    "        leftMid = left + (right - left) // 3\n",
    "        rightMid = right - (right - left) // 3\n",
    " \n",
    "        # leftMid = (2*left + right) // 3\n",
    "        # rightMid = (left + 2*right) // 3\n",
    " \n",
    "        if A[leftMid] == x:\n",
    "            return leftMid\n",
    "        elif A[rightMid] == x:\n",
    "            return rightMid\n",
    "        elif A[leftMid] > x:\n",
    "            right = leftMid - 1\n",
    "        elif A[rightMid] < x:\n",
    "            left = rightMid + 1\n",
    "        else:\n",
    "            left = leftMid + 1\n",
    "            right = rightMid - 1\n",
    " \n",
    "    return -1\n",
    " \n",
    " \n",
    "if __name__ == '__main__':\n",
    " \n",
    "    A = [2, 5, 6, 8, 9, 10]\n",
    "    key = 6\n",
    " \n",
    "    index = ternarySearch(A, key)\n",
    " \n",
    "    if index != -1:\n",
    "        print(f'Element found at index {index}')\n",
    "    else:\n",
    "        print('Element found not in the list')"
   ]
  },
  {
   "cell_type": "code",
   "execution_count": null,
   "id": "6a1dd462",
   "metadata": {},
   "outputs": [],
   "source": []
  }
 ],
 "metadata": {
  "kernelspec": {
   "display_name": "Python 3",
   "language": "python",
   "name": "python3"
  },
  "language_info": {
   "codemirror_mode": {
    "name": "ipython",
    "version": 3
   },
   "file_extension": ".py",
   "mimetype": "text/x-python",
   "name": "python",
   "nbconvert_exporter": "python",
   "pygments_lexer": "ipython3",
   "version": "3.8.8"
  }
 },
 "nbformat": 4,
 "nbformat_minor": 5
}
