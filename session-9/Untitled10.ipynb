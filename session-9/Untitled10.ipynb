{
 "cells": [
  {
   "cell_type": "markdown",
   "id": "621274af",
   "metadata": {},
   "source": [
    "# DevOps vs. DevSecOps \n",
    "<br>\n",
    "*  Security automation\n",
    "\n",
    "__Software development is too fast and too complex for engineers to inspect each line of code manually. DevSecOps expedites the process using security automation tools, allowing teams to move faster and with greater accuracy, accomplishing more in less time__ <br> <br>"
   ]
  },
  {
   "cell_type": "markdown",
   "id": "7741a382",
   "metadata": {},
   "source": [
    "* __Lower costs__\n",
    "\n",
    "__Security issues are typically more expensive to fix later in the production cycle. As such, security is one of the top contributing factors to rising production costs.__\n",
    "\n",
    "__With DevSecOps, you can address security issues earlier in development and lower production expenses. Over time, this can lead to significant cost savings.__ <br>\n",
    "\n",
    "\n"
   ]
  },
  {
   "cell_type": "markdown",
   "id": "4b8edb73",
   "metadata": {},
   "source": [
    "* __Better user experience__\n",
    "\n",
    "__Users today expect seamless experiences with fast updates and minimal interruptions. DevSecOps enables teams to move faster and release better software, resulting in happier customers and better reviews.__<br>"
   ]
  },
  {
   "cell_type": "markdown",
   "id": "507b7fd9",
   "metadata": {},
   "source": [
    "*__Ensure compliance__\n",
    "\n",
    "__Companies today face a growing list of privacy and security mandates, such as the EU General Data Protection Regulation (GDPR), California Consumer Privacy Act (CCPA), and the Health Insurance Portability and Accountability Act (HIPAA), to name a few examples.__\n",
    "\n",
    "__In a fast-moving DevOps model, it’s easy to overlook critical compliance protocols. But with a DevSecOps model in place, security teams can work closely with engineers to make sure they’re following proper guidelines and developing in accordance with best practices. This can protect the organization and minimize costly penalties.__"
   ]
  },
  {
   "cell_type": "code",
   "execution_count": null,
   "id": "c3a6725d",
   "metadata": {},
   "outputs": [],
   "source": []
  }
 ],
 "metadata": {
  "kernelspec": {
   "display_name": "Python 3",
   "language": "python",
   "name": "python3"
  },
  "language_info": {
   "codemirror_mode": {
    "name": "ipython",
    "version": 3
   },
   "file_extension": ".py",
   "mimetype": "text/x-python",
   "name": "python",
   "nbconvert_exporter": "python",
   "pygments_lexer": "ipython3",
   "version": "3.8.8"
  }
 },
 "nbformat": 4,
 "nbformat_minor": 5
}
