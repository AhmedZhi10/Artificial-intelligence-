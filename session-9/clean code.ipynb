{
 "cells": [
  {
   "cell_type": "code",
   "execution_count": 5,
   "id": "79f1d381",
   "metadata": {},
   "outputs": [
    {
     "name": "stdout",
     "output_type": "stream",
     "text": [
      "['unitedstates', 'japan', 'egypt', 'argenteina']\n"
     ]
    }
   ],
   "source": [
    "# bad naming is an example of spagetti code \n",
    "a=[\"unitedstates\",\"japan\", \"egypt\",\"argenteina\"]\n",
    "print(a)"
   ]
  },
  {
   "cell_type": "code",
   "execution_count": 7,
   "id": "1e954d7c",
   "metadata": {},
   "outputs": [
    {
     "name": "stdout",
     "output_type": "stream",
     "text": [
      "['unitedstates', 'japan', 'egypt', 'argenteina']\n"
     ]
    }
   ],
   "source": [
    "#clean code \n",
    "#megnful naming \n",
    "natians= [\"unitedstates\",\"japan\", \"egypt\",\"argenteina\"]\n",
    "print(natians)"
   ]
  },
  {
   "cell_type": "code",
   "execution_count": null,
   "id": "408c5b04",
   "metadata": {},
   "outputs": [],
   "source": []
  }
 ],
 "metadata": {
  "kernelspec": {
   "display_name": "Python 3",
   "language": "python",
   "name": "python3"
  },
  "language_info": {
   "codemirror_mode": {
    "name": "ipython",
    "version": 3
   },
   "file_extension": ".py",
   "mimetype": "text/x-python",
   "name": "python",
   "nbconvert_exporter": "python",
   "pygments_lexer": "ipython3",
   "version": "3.8.8"
  }
 },
 "nbformat": 4,
 "nbformat_minor": 5
}
