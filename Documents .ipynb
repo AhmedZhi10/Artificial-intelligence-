{
 "cells": [
  {
   "cell_type": "code",
   "execution_count": null,
   "id": "32e26f7a",
   "metadata": {},
   "outputs": [],
   "source": [
    "#1\n",
    "list=[]\n",
    "for n in range (1500,2700):\n",
    "    if (n%7==0) and (n%5==0):\n",
    "        list.append(str(n))\n",
    "print(list)"
   ]
  },
  {
   "cell_type": "code",
   "execution_count": 3,
   "id": "d3603754",
   "metadata": {},
   "outputs": [
    {
     "name": "stdout",
     "output_type": "stream",
     "text": [
      "Enter the degree you want to convert from : 60F\n",
      "degree in  celsius :  140.0\n"
     ]
    }
   ],
   "source": [
    "#2\n",
    "\n",
    "opreation=input(\"Enter the degree you want to convert from : \")\n",
    "\n",
    "\n",
    "last_char =opreation[-1]\n",
    "\n",
    "\n",
    "#to check if the user write letter C OR F at end of degree that he or her want to converted from\n",
    "if last_char !='C'and last_char !='F':\n",
    "    print(\"please enter the degree in this way 50F , 50C,\"\"30F\"\"....etc\")\n",
    "\n",
    "\n",
    "if last_char=='C':\n",
    "    print(\"degree in fahrenheit : \",1.8*int(''.join(filter(str.isdigit, opreation)))+32)\n",
    "  \n",
    "    \n",
    "if last_char=='F':\n",
    "        print(\"degree in  celsius : \",1.8*int(''.join(filter(str.isdigit, opreation)))+32)\n",
    "\n",
    "\n",
    " \n"
   ]
  },
  {
   "cell_type": "code",
   "execution_count": 4,
   "id": "32d162b3",
   "metadata": {},
   "outputs": [
    {
     "name": "stdout",
     "output_type": "stream",
     "text": [
      "\n",
      "* \n",
      "* * \n",
      "* * * \n",
      "* * * * \n",
      "* * * * * \n",
      "* * * * \n",
      "* * * \n",
      "* * \n",
      "* \n"
     ]
    }
   ],
   "source": [
    "#3\n",
    "n=5;\n",
    "for i in range(n):\n",
    "    for j in range(i):\n",
    "        print ('* ', end=\"\")\n",
    "    print('')\n",
    "\n",
    "for i in range(n,0,-1):\n",
    "    for j in range(i):\n",
    "        print('* ', end=\"\")\n",
    "    print('')\n"
   ]
  },
  {
   "cell_type": "code",
   "execution_count": 5,
   "id": "d9ac5b19",
   "metadata": {},
   "outputs": [
    {
     "name": "stdout",
     "output_type": "stream",
     "text": [
      "Enter a word: ahmed\n",
      "The reversed string is : \n",
      "demha\n"
     ]
    }
   ],
   "source": [
    "#4\n",
    "def reverse(string):\n",
    "\tstring = \"\".join(reversed(string))\n",
    "\treturn string\n",
    "\n",
    "word=input(\"Enter a word: \")\n",
    "\n",
    "print(\"The reversed string is : \")\n",
    "print(reverse(word))\n"
   ]
  },
  {
   "cell_type": "code",
   "execution_count": 8,
   "id": "0da93247",
   "metadata": {},
   "outputs": [
    {
     "name": "stdout",
     "output_type": "stream",
     "text": [
      "The largest number is :  5\n"
     ]
    }
   ],
   "source": [
    "#5\n",
    "\n",
    "def find_max(n1,n2,n3):\n",
    "    max=0\n",
    "    if n1>max:\n",
    "        max=n1\n",
    "    if n2>max:\n",
    "        max=n2\n",
    "    if n3>max:\n",
    "        max=n3\n",
    "    return max\n",
    "\n",
    "\n",
    "\n",
    "\n",
    "print(\"The largest number is : \",find_max(5,-3,-12))\n"
   ]
  },
  {
   "cell_type": "code",
   "execution_count": 10,
   "id": "85216860",
   "metadata": {},
   "outputs": [
    {
     "name": "stdout",
     "output_type": "stream",
     "text": [
      "The sum of the list is:  15\n"
     ]
    }
   ],
   "source": [
    "#6\n",
    "\n",
    "def sum_of_list(list):\n",
    "  total = 0\n",
    "  for value in list:\n",
    "    total = total + value\n",
    "  return total\n",
    "\n",
    "my_list = [1,3,5,2,4]\n",
    "print ((\"The sum of the list is: \"), sum_of_list(my_list))"
   ]
  },
  {
   "cell_type": "code",
   "execution_count": 11,
   "id": "ee82f7e3",
   "metadata": {},
   "outputs": [
    {
     "name": "stdout",
     "output_type": "stream",
     "text": [
      "0\n",
      "1\n",
      "2\n",
      "4\n",
      "5\n"
     ]
    }
   ],
   "source": [
    "#7\n",
    "\n",
    "for i in range(6):\n",
    "     if (i == 3 or i==6):\n",
    "           continue\n",
    "     print(i)"
   ]
  },
  {
   "cell_type": "code",
   "execution_count": 12,
   "id": "87947574",
   "metadata": {},
   "outputs": [
    {
     "name": "stdout",
     "output_type": "stream",
     "text": [
      "Input a number to compute the factiorial : 5\n",
      "120\n"
     ]
    }
   ],
   "source": [
    "#8\n",
    "def fact(n):\n",
    "    if n == 0:\n",
    "        return 1\n",
    "    else:\n",
    "        return n * fact(n-1)\n",
    "n=int(input(\"Input a number to compute the factiorial : \"))\n",
    "print(fact(n))"
   ]
  },
  {
   "cell_type": "code",
   "execution_count": 13,
   "id": "731b6ed0",
   "metadata": {},
   "outputs": [
    {
     "name": "stdout",
     "output_type": "stream",
     "text": [
      "[1, 2, 3, 4, 5]\n"
     ]
    }
   ],
   "source": [
    "#9\n",
    "def unique_list(numbers):\n",
    "   return list(set(numbers))\n",
    "\n",
    "\n",
    "num=[1,3,5,2,1,1,3,4,2]\n",
    "print(unique_list(num))\n",
    "\n"
   ]
  },
  {
   "cell_type": "code",
   "execution_count": null,
   "id": "931ad695",
   "metadata": {},
   "outputs": [],
   "source": [
    "#10\n",
    "addition = lambda a: a+15\n",
    "print(addition(25))\n",
    "multiply=lambda a,b:a*b\n",
    "print(multiply(3,4))"
   ]
  }
 ],
 "metadata": {
  "kernelspec": {
   "display_name": "Python 3",
   "language": "python",
   "name": "python3"
  },
  "language_info": {
   "codemirror_mode": {
    "name": "ipython",
    "version": 3
   },
   "file_extension": ".py",
   "mimetype": "text/x-python",
   "name": "python",
   "nbconvert_exporter": "python",
   "pygments_lexer": "ipython3",
   "version": "3.8.8"
  }
 },
 "nbformat": 4,
 "nbformat_minor": 5
}
