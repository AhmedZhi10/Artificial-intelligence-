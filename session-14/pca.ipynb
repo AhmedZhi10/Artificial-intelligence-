{
 "cells": [
  {
   "cell_type": "code",
   "execution_count": null,
   "id": "6bd7b226",
   "metadata": {},
   "outputs": [],
   "source": [
    "# Principal Component Analysis (PCA)\n",
    "<br>\n",
    "* The Principal Component Analysis is a popular unsupervised learning technique for reducing the dimensionality of data. It increases interpretability yet, at the same time, it minimizes information loss. It helps to find the most significant features in a dataset and makes the data easy for plotting in 2D and 3D. PCA helps in finding a sequence of linear combinations of variables.\n",
    "\n",
    "## Applications of PCA in Machine Learning\n",
    "\n",
    "1.PCA is used to visualize multidimensional data.<br>\n",
    "2.It is used to reduce the number of dimensions in healthcare data.<br>\n",
    "3.PCA can help resize an image.<br>\n",
    "4.It can be used in finance to analyze stock data and forecast returns.<br>\n",
    "5.PCA helps to find patterns in the high-dimensional datasets.\n",
    "\n",
    "### How it works ? \n",
    " \n",
    "1. Normalize the data <br>\n",
    "Standardize the data before performing PCA. This will ensure that each feature has a mean = 0 and variance = 1.\n",
    "\n",
    "2.  Build the covariance matrix<br>\n",
    "Construct a square matrix to express the correlation between two or more features in a multidimensional dataset.\n",
    "\n",
    "3. Find the Eigenvectors and Eigenvalues<br>\n",
    "Calculate the eigenvectors/unit vectors and eigenvalues. Eigenvalues are scalars by which we multiply the eigenvector of the covariance matrix.\n",
    "\n",
    "4. Sort the eigenvectors in highest to lowest order and select the number of principal components.\n",
    "\n"
   ]
  },
  {
   "cell_type": "markdown",
   "id": "0730488d",
   "metadata": {},
   "source": []
  },
  {
   "cell_type": "code",
   "execution_count": null,
   "id": "a5665a8c",
   "metadata": {},
   "outputs": [],
   "source": []
  }
 ],
 "metadata": {
  "kernelspec": {
   "display_name": "Python 3",
   "language": "python",
   "name": "python3"
  },
  "language_info": {
   "codemirror_mode": {
    "name": "ipython",
    "version": 3
   },
   "file_extension": ".py",
   "mimetype": "text/x-python",
   "name": "python",
   "nbconvert_exporter": "python",
   "pygments_lexer": "ipython3",
   "version": "3.8.8"
  }
 },
 "nbformat": 4,
 "nbformat_minor": 5
}
